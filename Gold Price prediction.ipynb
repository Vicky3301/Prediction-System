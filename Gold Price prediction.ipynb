{
 "cells": [
  {
   "cell_type": "code",
   "execution_count": 1,
   "id": "7800edda",
   "metadata": {},
   "outputs": [],
   "source": [
    "import pandas as pd\n",
    "import numpy as np"
   ]
  },
  {
   "cell_type": "code",
   "execution_count": 2,
   "id": "1c11f5d8",
   "metadata": {},
   "outputs": [],
   "source": [
    "df=pd.read_csv(\"gld_price_data.csv\")"
   ]
  },
  {
   "cell_type": "code",
   "execution_count": 4,
   "id": "c00a58d2",
   "metadata": {
    "scrolled": true
   },
   "outputs": [
    {
     "data": {
      "text/html": [
       "<div>\n",
       "<style scoped>\n",
       "    .dataframe tbody tr th:only-of-type {\n",
       "        vertical-align: middle;\n",
       "    }\n",
       "\n",
       "    .dataframe tbody tr th {\n",
       "        vertical-align: top;\n",
       "    }\n",
       "\n",
       "    .dataframe thead th {\n",
       "        text-align: right;\n",
       "    }\n",
       "</style>\n",
       "<table border=\"1\" class=\"dataframe\">\n",
       "  <thead>\n",
       "    <tr style=\"text-align: right;\">\n",
       "      <th></th>\n",
       "      <th>Date</th>\n",
       "      <th>SPX</th>\n",
       "      <th>GLD</th>\n",
       "      <th>USO</th>\n",
       "      <th>SLV</th>\n",
       "      <th>EUR/USD</th>\n",
       "    </tr>\n",
       "  </thead>\n",
       "  <tbody>\n",
       "    <tr>\n",
       "      <th>0</th>\n",
       "      <td>1/2/2008</td>\n",
       "      <td>1447.160034</td>\n",
       "      <td>84.860001</td>\n",
       "      <td>78.470001</td>\n",
       "      <td>15.180000</td>\n",
       "      <td>1.471692</td>\n",
       "    </tr>\n",
       "    <tr>\n",
       "      <th>1</th>\n",
       "      <td>1/3/2008</td>\n",
       "      <td>1447.160034</td>\n",
       "      <td>85.570000</td>\n",
       "      <td>78.370003</td>\n",
       "      <td>15.285000</td>\n",
       "      <td>1.474491</td>\n",
       "    </tr>\n",
       "    <tr>\n",
       "      <th>2</th>\n",
       "      <td>1/4/2008</td>\n",
       "      <td>1411.630005</td>\n",
       "      <td>85.129997</td>\n",
       "      <td>77.309998</td>\n",
       "      <td>15.167000</td>\n",
       "      <td>1.475492</td>\n",
       "    </tr>\n",
       "    <tr>\n",
       "      <th>3</th>\n",
       "      <td>1/7/2008</td>\n",
       "      <td>1416.180054</td>\n",
       "      <td>84.769997</td>\n",
       "      <td>75.500000</td>\n",
       "      <td>15.053000</td>\n",
       "      <td>1.468299</td>\n",
       "    </tr>\n",
       "    <tr>\n",
       "      <th>4</th>\n",
       "      <td>1/8/2008</td>\n",
       "      <td>1390.189941</td>\n",
       "      <td>86.779999</td>\n",
       "      <td>76.059998</td>\n",
       "      <td>15.590000</td>\n",
       "      <td>1.557099</td>\n",
       "    </tr>\n",
       "    <tr>\n",
       "      <th>5</th>\n",
       "      <td>1/9/2008</td>\n",
       "      <td>1409.130005</td>\n",
       "      <td>86.550003</td>\n",
       "      <td>75.250000</td>\n",
       "      <td>15.520000</td>\n",
       "      <td>1.466405</td>\n",
       "    </tr>\n",
       "    <tr>\n",
       "      <th>6</th>\n",
       "      <td>1/10/2008</td>\n",
       "      <td>1420.329956</td>\n",
       "      <td>88.250000</td>\n",
       "      <td>74.019997</td>\n",
       "      <td>16.061001</td>\n",
       "      <td>1.480100</td>\n",
       "    </tr>\n",
       "    <tr>\n",
       "      <th>7</th>\n",
       "      <td>1/11/2008</td>\n",
       "      <td>1401.020020</td>\n",
       "      <td>88.580002</td>\n",
       "      <td>73.089996</td>\n",
       "      <td>16.077000</td>\n",
       "      <td>1.479006</td>\n",
       "    </tr>\n",
       "    <tr>\n",
       "      <th>8</th>\n",
       "      <td>1/14/2008</td>\n",
       "      <td>1416.250000</td>\n",
       "      <td>89.540001</td>\n",
       "      <td>74.250000</td>\n",
       "      <td>16.280001</td>\n",
       "      <td>1.486900</td>\n",
       "    </tr>\n",
       "    <tr>\n",
       "      <th>9</th>\n",
       "      <td>1/15/2008</td>\n",
       "      <td>1380.949951</td>\n",
       "      <td>87.989998</td>\n",
       "      <td>72.779999</td>\n",
       "      <td>15.834000</td>\n",
       "      <td>1.480210</td>\n",
       "    </tr>\n",
       "  </tbody>\n",
       "</table>\n",
       "</div>"
      ],
      "text/plain": [
       "        Date          SPX        GLD        USO        SLV   EUR/USD\n",
       "0   1/2/2008  1447.160034  84.860001  78.470001  15.180000  1.471692\n",
       "1   1/3/2008  1447.160034  85.570000  78.370003  15.285000  1.474491\n",
       "2   1/4/2008  1411.630005  85.129997  77.309998  15.167000  1.475492\n",
       "3   1/7/2008  1416.180054  84.769997  75.500000  15.053000  1.468299\n",
       "4   1/8/2008  1390.189941  86.779999  76.059998  15.590000  1.557099\n",
       "5   1/9/2008  1409.130005  86.550003  75.250000  15.520000  1.466405\n",
       "6  1/10/2008  1420.329956  88.250000  74.019997  16.061001  1.480100\n",
       "7  1/11/2008  1401.020020  88.580002  73.089996  16.077000  1.479006\n",
       "8  1/14/2008  1416.250000  89.540001  74.250000  16.280001  1.486900\n",
       "9  1/15/2008  1380.949951  87.989998  72.779999  15.834000  1.480210"
      ]
     },
     "execution_count": 4,
     "metadata": {},
     "output_type": "execute_result"
    }
   ],
   "source": [
    "df.head(10)"
   ]
  },
  {
   "cell_type": "code",
   "execution_count": 5,
   "id": "716ab2e9",
   "metadata": {},
   "outputs": [
    {
     "name": "stdout",
     "output_type": "stream",
     "text": [
      "<class 'pandas.core.frame.DataFrame'>\n",
      "RangeIndex: 2290 entries, 0 to 2289\n",
      "Data columns (total 6 columns):\n",
      " #   Column   Non-Null Count  Dtype  \n",
      "---  ------   --------------  -----  \n",
      " 0   Date     2290 non-null   object \n",
      " 1   SPX      2290 non-null   float64\n",
      " 2   GLD      2290 non-null   float64\n",
      " 3   USO      2290 non-null   float64\n",
      " 4   SLV      2290 non-null   float64\n",
      " 5   EUR/USD  2290 non-null   float64\n",
      "dtypes: float64(5), object(1)\n",
      "memory usage: 107.5+ KB\n"
     ]
    }
   ],
   "source": [
    "df.info()"
   ]
  },
  {
   "cell_type": "code",
   "execution_count": 7,
   "id": "f373a298",
   "metadata": {},
   "outputs": [
    {
     "data": {
      "text/plain": [
       "(2290, 6)"
      ]
     },
     "execution_count": 7,
     "metadata": {},
     "output_type": "execute_result"
    }
   ],
   "source": [
    "df.shape"
   ]
  },
  {
   "cell_type": "code",
   "execution_count": 13,
   "id": "bfbd2409",
   "metadata": {},
   "outputs": [
    {
     "data": {
      "text/plain": [
       "0"
      ]
     },
     "execution_count": 13,
     "metadata": {},
     "output_type": "execute_result"
    }
   ],
   "source": [
    "df.duplicated().sum()"
   ]
  },
  {
   "cell_type": "code",
   "execution_count": 14,
   "id": "03c11e5f",
   "metadata": {},
   "outputs": [
    {
     "data": {
      "text/html": [
       "<div>\n",
       "<style scoped>\n",
       "    .dataframe tbody tr th:only-of-type {\n",
       "        vertical-align: middle;\n",
       "    }\n",
       "\n",
       "    .dataframe tbody tr th {\n",
       "        vertical-align: top;\n",
       "    }\n",
       "\n",
       "    .dataframe thead th {\n",
       "        text-align: right;\n",
       "    }\n",
       "</style>\n",
       "<table border=\"1\" class=\"dataframe\">\n",
       "  <thead>\n",
       "    <tr style=\"text-align: right;\">\n",
       "      <th></th>\n",
       "      <th>SPX</th>\n",
       "      <th>GLD</th>\n",
       "      <th>USO</th>\n",
       "      <th>SLV</th>\n",
       "      <th>EUR/USD</th>\n",
       "    </tr>\n",
       "  </thead>\n",
       "  <tbody>\n",
       "    <tr>\n",
       "      <th>count</th>\n",
       "      <td>2290.000000</td>\n",
       "      <td>2290.000000</td>\n",
       "      <td>2290.000000</td>\n",
       "      <td>2290.000000</td>\n",
       "      <td>2290.000000</td>\n",
       "    </tr>\n",
       "    <tr>\n",
       "      <th>mean</th>\n",
       "      <td>1654.315776</td>\n",
       "      <td>122.732875</td>\n",
       "      <td>31.842221</td>\n",
       "      <td>20.084997</td>\n",
       "      <td>1.283653</td>\n",
       "    </tr>\n",
       "    <tr>\n",
       "      <th>std</th>\n",
       "      <td>519.111540</td>\n",
       "      <td>23.283346</td>\n",
       "      <td>19.523517</td>\n",
       "      <td>7.092566</td>\n",
       "      <td>0.131547</td>\n",
       "    </tr>\n",
       "    <tr>\n",
       "      <th>min</th>\n",
       "      <td>676.530029</td>\n",
       "      <td>70.000000</td>\n",
       "      <td>7.960000</td>\n",
       "      <td>8.850000</td>\n",
       "      <td>1.039047</td>\n",
       "    </tr>\n",
       "    <tr>\n",
       "      <th>25%</th>\n",
       "      <td>1239.874969</td>\n",
       "      <td>109.725000</td>\n",
       "      <td>14.380000</td>\n",
       "      <td>15.570000</td>\n",
       "      <td>1.171313</td>\n",
       "    </tr>\n",
       "    <tr>\n",
       "      <th>50%</th>\n",
       "      <td>1551.434998</td>\n",
       "      <td>120.580002</td>\n",
       "      <td>33.869999</td>\n",
       "      <td>17.268500</td>\n",
       "      <td>1.303297</td>\n",
       "    </tr>\n",
       "    <tr>\n",
       "      <th>75%</th>\n",
       "      <td>2073.010070</td>\n",
       "      <td>132.840004</td>\n",
       "      <td>37.827501</td>\n",
       "      <td>22.882500</td>\n",
       "      <td>1.369971</td>\n",
       "    </tr>\n",
       "    <tr>\n",
       "      <th>max</th>\n",
       "      <td>2872.870117</td>\n",
       "      <td>184.589996</td>\n",
       "      <td>117.480003</td>\n",
       "      <td>47.259998</td>\n",
       "      <td>1.598798</td>\n",
       "    </tr>\n",
       "  </tbody>\n",
       "</table>\n",
       "</div>"
      ],
      "text/plain": [
       "               SPX          GLD          USO          SLV      EUR/USD\n",
       "count  2290.000000  2290.000000  2290.000000  2290.000000  2290.000000\n",
       "mean   1654.315776   122.732875    31.842221    20.084997     1.283653\n",
       "std     519.111540    23.283346    19.523517     7.092566     0.131547\n",
       "min     676.530029    70.000000     7.960000     8.850000     1.039047\n",
       "25%    1239.874969   109.725000    14.380000    15.570000     1.171313\n",
       "50%    1551.434998   120.580002    33.869999    17.268500     1.303297\n",
       "75%    2073.010070   132.840004    37.827501    22.882500     1.369971\n",
       "max    2872.870117   184.589996   117.480003    47.259998     1.598798"
      ]
     },
     "execution_count": 14,
     "metadata": {},
     "output_type": "execute_result"
    }
   ],
   "source": [
    "df.describe()"
   ]
  },
  {
   "cell_type": "code",
   "execution_count": null,
   "id": "48772fc7",
   "metadata": {},
   "outputs": [],
   "source": []
  },
  {
   "cell_type": "code",
   "execution_count": 9,
   "id": "8a6d3516",
   "metadata": {},
   "outputs": [
    {
     "name": "stderr",
     "output_type": "stream",
     "text": [
      "C:\\Users\\vicky\\AppData\\Local\\Temp\\ipykernel_26532\\1134722465.py:1: FutureWarning: The default value of numeric_only in DataFrame.corr is deprecated. In a future version, it will default to False. Select only valid columns or specify the value of numeric_only to silence this warning.\n",
      "  df.corr()\n"
     ]
    },
    {
     "data": {
      "text/html": [
       "<div>\n",
       "<style scoped>\n",
       "    .dataframe tbody tr th:only-of-type {\n",
       "        vertical-align: middle;\n",
       "    }\n",
       "\n",
       "    .dataframe tbody tr th {\n",
       "        vertical-align: top;\n",
       "    }\n",
       "\n",
       "    .dataframe thead th {\n",
       "        text-align: right;\n",
       "    }\n",
       "</style>\n",
       "<table border=\"1\" class=\"dataframe\">\n",
       "  <thead>\n",
       "    <tr style=\"text-align: right;\">\n",
       "      <th></th>\n",
       "      <th>SPX</th>\n",
       "      <th>GLD</th>\n",
       "      <th>USO</th>\n",
       "      <th>SLV</th>\n",
       "      <th>EUR/USD</th>\n",
       "    </tr>\n",
       "  </thead>\n",
       "  <tbody>\n",
       "    <tr>\n",
       "      <th>SPX</th>\n",
       "      <td>1.000000</td>\n",
       "      <td>0.049345</td>\n",
       "      <td>-0.591573</td>\n",
       "      <td>-0.274055</td>\n",
       "      <td>-0.672017</td>\n",
       "    </tr>\n",
       "    <tr>\n",
       "      <th>GLD</th>\n",
       "      <td>0.049345</td>\n",
       "      <td>1.000000</td>\n",
       "      <td>-0.186360</td>\n",
       "      <td>0.866632</td>\n",
       "      <td>-0.024375</td>\n",
       "    </tr>\n",
       "    <tr>\n",
       "      <th>USO</th>\n",
       "      <td>-0.591573</td>\n",
       "      <td>-0.186360</td>\n",
       "      <td>1.000000</td>\n",
       "      <td>0.167547</td>\n",
       "      <td>0.829317</td>\n",
       "    </tr>\n",
       "    <tr>\n",
       "      <th>SLV</th>\n",
       "      <td>-0.274055</td>\n",
       "      <td>0.866632</td>\n",
       "      <td>0.167547</td>\n",
       "      <td>1.000000</td>\n",
       "      <td>0.321631</td>\n",
       "    </tr>\n",
       "    <tr>\n",
       "      <th>EUR/USD</th>\n",
       "      <td>-0.672017</td>\n",
       "      <td>-0.024375</td>\n",
       "      <td>0.829317</td>\n",
       "      <td>0.321631</td>\n",
       "      <td>1.000000</td>\n",
       "    </tr>\n",
       "  </tbody>\n",
       "</table>\n",
       "</div>"
      ],
      "text/plain": [
       "              SPX       GLD       USO       SLV   EUR/USD\n",
       "SPX      1.000000  0.049345 -0.591573 -0.274055 -0.672017\n",
       "GLD      0.049345  1.000000 -0.186360  0.866632 -0.024375\n",
       "USO     -0.591573 -0.186360  1.000000  0.167547  0.829317\n",
       "SLV     -0.274055  0.866632  0.167547  1.000000  0.321631\n",
       "EUR/USD -0.672017 -0.024375  0.829317  0.321631  1.000000"
      ]
     },
     "execution_count": 9,
     "metadata": {},
     "output_type": "execute_result"
    }
   ],
   "source": [
    "(df.corr())"
   ]
  },
  {
   "cell_type": "code",
   "execution_count": 10,
   "id": "5af8a6be",
   "metadata": {},
   "outputs": [],
   "source": [
    "import seaborn as sns\n",
    "import matplotlib.pyplot as plt"
   ]
  },
  {
   "cell_type": "code",
   "execution_count": 12,
   "id": "eb0a618b",
   "metadata": {},
   "outputs": [
    {
     "name": "stderr",
     "output_type": "stream",
     "text": [
      "C:\\Users\\vicky\\AppData\\Local\\Temp\\ipykernel_26532\\4277794465.py:1: FutureWarning: The default value of numeric_only in DataFrame.corr is deprecated. In a future version, it will default to False. Select only valid columns or specify the value of numeric_only to silence this warning.\n",
      "  sns.heatmap(df.corr(),annot=True)\n"
     ]
    },
    {
     "data": {
      "text/plain": [
       "<Axes: >"
      ]
     },
     "execution_count": 12,
     "metadata": {},
     "output_type": "execute_result"
    },
    {
     "data": {
      "image/png": "[encoded data removed]",
      "text/plain": [
       "<Figure size 640x480 with 2 Axes>"
      ]
     },
     "metadata": {},
     "output_type": "display_data"
    }
   ],
   "source": [
    "sns.heatmap(df.corr(),annot=True)"
   ]
  },
  {
   "cell_type": "code",
   "execution_count": 18,
   "id": "ff066089",
   "metadata": {},
   "outputs": [
    {
     "data": {
      "image/png": "[encoded data removed]",
      "text/plain": [
       "<Figure size 500x500 with 1 Axes>"
      ]
     },
     "metadata": {},
     "output_type": "display_data"
    }
   ],
   "source": [
    "sns.displot(df['GLD'],color='green')\n",
    "plt.show()"
   ]
  },
  {
   "cell_type": "code",
   "execution_count": 19,
   "id": "c8621b7d",
   "metadata": {},
   "outputs": [],
   "source": [
    "x=df.drop(['Date','GLD'],axis=1)"
   ]
  },
  {
   "cell_type": "code",
   "execution_count": 20,
   "id": "eea5ca87",
   "metadata": {},
   "outputs": [],
   "source": [
    "y=df[\"GLD\"]"
   ]
  },
  {
   "cell_type": "code",
   "execution_count": 21,
   "id": "493157b9",
   "metadata": {},
   "outputs": [
    {
     "data": {
      "text/html": [
       "<div>\n",
       "<style scoped>\n",
       "    .dataframe tbody tr th:only-of-type {\n",
       "        vertical-align: middle;\n",
       "    }\n",
       "\n",
       "    .dataframe tbody tr th {\n",
       "        vertical-align: top;\n",
       "    }\n",
       "\n",
       "    .dataframe thead th {\n",
       "        text-align: right;\n",
       "    }\n",
       "</style>\n",
       "<table border=\"1\" class=\"dataframe\">\n",
       "  <thead>\n",
       "    <tr style=\"text-align: right;\">\n",
       "      <th></th>\n",
       "      <th>SPX</th>\n",
       "      <th>USO</th>\n",
       "      <th>SLV</th>\n",
       "      <th>EUR/USD</th>\n",
       "    </tr>\n",
       "  </thead>\n",
       "  <tbody>\n",
       "    <tr>\n",
       "      <th>0</th>\n",
       "      <td>1447.160034</td>\n",
       "      <td>78.470001</td>\n",
       "      <td>15.1800</td>\n",
       "      <td>1.471692</td>\n",
       "    </tr>\n",
       "    <tr>\n",
       "      <th>1</th>\n",
       "      <td>1447.160034</td>\n",
       "      <td>78.370003</td>\n",
       "      <td>15.2850</td>\n",
       "      <td>1.474491</td>\n",
       "    </tr>\n",
       "    <tr>\n",
       "      <th>2</th>\n",
       "      <td>1411.630005</td>\n",
       "      <td>77.309998</td>\n",
       "      <td>15.1670</td>\n",
       "      <td>1.475492</td>\n",
       "    </tr>\n",
       "    <tr>\n",
       "      <th>3</th>\n",
       "      <td>1416.180054</td>\n",
       "      <td>75.500000</td>\n",
       "      <td>15.0530</td>\n",
       "      <td>1.468299</td>\n",
       "    </tr>\n",
       "    <tr>\n",
       "      <th>4</th>\n",
       "      <td>1390.189941</td>\n",
       "      <td>76.059998</td>\n",
       "      <td>15.5900</td>\n",
       "      <td>1.557099</td>\n",
       "    </tr>\n",
       "    <tr>\n",
       "      <th>...</th>\n",
       "      <td>...</td>\n",
       "      <td>...</td>\n",
       "      <td>...</td>\n",
       "      <td>...</td>\n",
       "    </tr>\n",
       "    <tr>\n",
       "      <th>2285</th>\n",
       "      <td>2671.919922</td>\n",
       "      <td>14.060000</td>\n",
       "      <td>15.5100</td>\n",
       "      <td>1.186789</td>\n",
       "    </tr>\n",
       "    <tr>\n",
       "      <th>2286</th>\n",
       "      <td>2697.790039</td>\n",
       "      <td>14.370000</td>\n",
       "      <td>15.5300</td>\n",
       "      <td>1.184722</td>\n",
       "    </tr>\n",
       "    <tr>\n",
       "      <th>2287</th>\n",
       "      <td>2723.070068</td>\n",
       "      <td>14.410000</td>\n",
       "      <td>15.7400</td>\n",
       "      <td>1.191753</td>\n",
       "    </tr>\n",
       "    <tr>\n",
       "      <th>2288</th>\n",
       "      <td>2730.129883</td>\n",
       "      <td>14.380000</td>\n",
       "      <td>15.5600</td>\n",
       "      <td>1.193118</td>\n",
       "    </tr>\n",
       "    <tr>\n",
       "      <th>2289</th>\n",
       "      <td>2725.780029</td>\n",
       "      <td>14.405800</td>\n",
       "      <td>15.4542</td>\n",
       "      <td>1.182033</td>\n",
       "    </tr>\n",
       "  </tbody>\n",
       "</table>\n",
       "<p>2290 rows × 4 columns</p>\n",
       "</div>"
      ],
      "text/plain": [
       "              SPX        USO      SLV   EUR/USD\n",
       "0     1447.160034  78.470001  15.1800  1.471692\n",
       "1     1447.160034  78.370003  15.2850  1.474491\n",
       "2     1411.630005  77.309998  15.1670  1.475492\n",
       "3     1416.180054  75.500000  15.0530  1.468299\n",
       "4     1390.189941  76.059998  15.5900  1.557099\n",
       "...           ...        ...      ...       ...\n",
       "2285  2671.919922  14.060000  15.5100  1.186789\n",
       "2286  2697.790039  14.370000  15.5300  1.184722\n",
       "2287  2723.070068  14.410000  15.7400  1.191753\n",
       "2288  2730.129883  14.380000  15.5600  1.193118\n",
       "2289  2725.780029  14.405800  15.4542  1.182033\n",
       "\n",
       "[2290 rows x 4 columns]"
      ]
     },
     "execution_count": 21,
     "metadata": {},
     "output_type": "execute_result"
    }
   ],
   "source": [
    "x"
   ]
  },
  {
   "cell_type": "code",
   "execution_count": 22,
   "id": "82d14524",
   "metadata": {},
   "outputs": [
    {
     "data": {
      "text/plain": [
       "0        84.860001\n",
       "1        85.570000\n",
       "2        85.129997\n",
       "3        84.769997\n",
       "4        86.779999\n",
       "           ...    \n",
       "2285    124.589996\n",
       "2286    124.330002\n",
       "2287    125.180000\n",
       "2288    124.489998\n",
       "2289    122.543800\n",
       "Name: GLD, Length: 2290, dtype: float64"
      ]
     },
     "execution_count": 22,
     "metadata": {},
     "output_type": "execute_result"
    }
   ],
   "source": [
    "y"
   ]
  },
  {
   "cell_type": "code",
   "execution_count": 23,
   "id": "3deb64ce",
   "metadata": {},
   "outputs": [],
   "source": [
    "from sklearn.model_selection import train_test_split"
   ]
  },
  {
   "cell_type": "code",
   "execution_count": 24,
   "id": "6934dd6b",
   "metadata": {},
   "outputs": [],
   "source": [
    "X_train, X_test, y_train, y_test = train_test_split(x, y, test_size=0.2, random_state=42)"
   ]
  },
  {
   "cell_type": "code",
   "execution_count": 27,
   "id": "ac97f8fc",
   "metadata": {},
   "outputs": [],
   "source": [
    "from sklearn.ensemble import RandomForestRegressor\n",
    "regressor=RandomForestRegressor(n_estimators=100)"
   ]
  },
  {
   "cell_type": "code",
   "execution_count": 28,
   "id": "61f3be4c",
   "metadata": {},
   "outputs": [
    {
     "data": {
      "text/html": [
       "<style>#sk-container-id-1 {color: black;background-color: white;}#sk-container-id-1 pre{padding: 0;}#sk-container-id-1 div.sk-toggleable {background-color: white;}#sk-container-id-1 label.sk-toggleable__label {cursor: pointer;display: block;width: 100%;margin-bottom: 0;padding: 0.3em;box-sizing: border-box;text-align: center;}#sk-container-id-1 label.sk-toggleable__label-arrow:before {content: \"▸\";float: left;margin-right: 0.25em;color: #696969;}#sk-container-id-1 label.sk-toggleable__label-arrow:hover:before {color: black;}#sk-container-id-1 div.sk-estimator:hover label.sk-toggleable__label-arrow:before {color: black;}#sk-container-id-1 div.sk-toggleable__content {max-height: 0;max-width: 0;overflow: hidden;text-align: left;background-color: #f0f8ff;}#sk-container-id-1 div.sk-toggleable__content pre {margin: 0.2em;color: black;border-radius: 0.25em;background-color: #f0f8ff;}#sk-container-id-1 input.sk-toggleable__control:checked~div.sk-toggleable__content {max-height: 200px;max-width: 100%;overflow: auto;}#sk-container-id-1 input.sk-toggleable__control:checked~label.sk-toggleable__label-arrow:before {content: \"▾\";}#sk-container-id-1 div.sk-estimator input.sk-toggleable__control:checked~label.sk-toggleable__label {background-color: #d4ebff;}#sk-container-id-1 div.sk-label input.sk-toggleable__control:checked~label.sk-toggleable__label {background-color: #d4ebff;}#sk-container-id-1 input.sk-hidden--visually {border: 0;clip: rect(1px 1px 1px 1px);clip: rect(1px, 1px, 1px, 1px);height: 1px;margin: -1px;overflow: hidden;padding: 0;position: absolute;width: 1px;}#sk-container-id-1 div.sk-estimator {font-family: monospace;background-color: #f0f8ff;border: 1px dotted black;border-radius: 0.25em;box-sizing: border-box;margin-bottom: 0.5em;}#sk-container-id-1 div.sk-estimator:hover {background-color: #d4ebff;}#sk-container-id-1 div.sk-parallel-item::after {content: \"\";width: 100%;border-bottom: 1px solid gray;flex-grow: 1;}#sk-container-id-1 div.sk-label:hover label.sk-toggleable__label {background-color: #d4ebff;}#sk-container-id-1 div.sk-serial::before {content: \"\";position: absolute;border-left: 1px solid gray;box-sizing: border-box;top: 0;bottom: 0;left: 50%;z-index: 0;}#sk-container-id-1 div.sk-serial {display: flex;flex-direction: column;align-items: center;background-color: white;padding-right: 0.2em;padding-left: 0.2em;position: relative;}#sk-container-id-1 div.sk-item {position: relative;z-index: 1;}#sk-container-id-1 div.sk-parallel {display: flex;align-items: stretch;justify-content: center;background-color: white;position: relative;}#sk-container-id-1 div.sk-item::before, #sk-container-id-1 div.sk-parallel-item::before {content: \"\";position: absolute;border-left: 1px solid gray;box-sizing: border-box;top: 0;bottom: 0;left: 50%;z-index: -1;}#sk-container-id-1 div.sk-parallel-item {display: flex;flex-direction: column;z-index: 1;position: relative;background-color: white;}#sk-container-id-1 div.sk-parallel-item:first-child::after {align-self: flex-end;width: 50%;}#sk-container-id-1 div.sk-parallel-item:last-child::after {align-self: flex-start;width: 50%;}#sk-container-id-1 div.sk-parallel-item:only-child::after {width: 0;}#sk-container-id-1 div.sk-dashed-wrapped {border: 1px dashed gray;margin: 0 0.4em 0.5em 0.4em;box-sizing: border-box;padding-bottom: 0.4em;background-color: white;}#sk-container-id-1 div.sk-label label {font-family: monospace;font-weight: bold;display: inline-block;line-height: 1.2em;}#sk-container-id-1 div.sk-label-container {text-align: center;}#sk-container-id-1 div.sk-container {/* jupyter's `normalize.less` sets `[hidden] { display: none; }` but bootstrap.min.css set `[hidden] { display: none !important; }` so we also need the `!important` here to be able to override the default hidden behavior on the sphinx rendered scikit-learn.org. See: https://github.com/scikit-learn/scikit-learn/issues/21755 */display: inline-block !important;position: relative;}#sk-container-id-1 div.sk-text-repr-fallback {display: none;}</style><div id=\"sk-container-id-1\" class=\"sk-top-container\"><div class=\"sk-text-repr-fallback\"><pre>RandomForestRegressor()</pre><b>In a Jupyter environment, please rerun this cell to show the HTML representation or trust the notebook. <br />On GitHub, the HTML representation is unable to render, please try loading this page with nbviewer.org.</b></div><div class=\"sk-container\" hidden><div class=\"sk-item\"><div class=\"sk-estimator sk-toggleable\"><input class=\"sk-toggleable__control sk-hidden--visually\" id=\"sk-estimator-id-1\" type=\"checkbox\" checked><label for=\"sk-estimator-id-1\" class=\"sk-toggleable__label sk-toggleable__label-arrow\">RandomForestRegressor</label><div class=\"sk-toggleable__content\"><pre>RandomForestRegressor()</pre></div></div></div></div></div>"
      ],
      "text/plain": [
       "RandomForestRegressor()"
      ]
     },
     "execution_count": 28,
     "metadata": {},
     "output_type": "execute_result"
    }
   ],
   "source": [
    "regressor.fit(X_train,y_train)"
   ]
  },
  {
   "cell_type": "code",
   "execution_count": 29,
   "id": "4efd9275",
   "metadata": {},
   "outputs": [],
   "source": [
    "train_data_prediction=regressor.predict(X_test)"
   ]
  },
  {
   "cell_type": "code",
   "execution_count": 30,
   "id": "5eda2305",
   "metadata": {
    "collapsed": true
   },
   "outputs": [
    {
     "data": {
      "text/plain": [
       "array([122.57889982, 130.26760285, 127.58730021,  96.70889728,\n",
       "       119.0177007 , 114.59239928, 124.71000147, 117.7951995 ,\n",
       "       107.95480134,  98.08689958,  95.74369966, 167.83159839,\n",
       "       150.12780182, 116.31600043, 170.85950158,  85.11459984,\n",
       "       123.26979895, 109.21059702, 113.16060098, 131.42840323,\n",
       "       124.36419881, 113.53160045, 116.14040059, 108.91489996,\n",
       "       108.35910118, 125.79159936, 119.74139948, 112.29389935,\n",
       "       113.35850078, 125.45129905, 146.33920156,  89.66820002,\n",
       "       167.9785999 , 113.62239963, 108.59770126, 120.31310083,\n",
       "       142.09339919, 161.15340098, 174.08209742, 152.94060094,\n",
       "       119.32810111, 113.50330056, 121.3733993 , 113.66519941,\n",
       "       121.98943816, 107.87670057,  88.83079869, 114.54649906,\n",
       "       129.75520235, 117.88440113, 104.00579951, 129.73840255,\n",
       "       107.02499885, 160.7188038 , 131.73970038, 118.37029992,\n",
       "       146.96400094, 135.83190214,  95.40710086, 124.71970141,\n",
       "       114.6234987 ,  86.12350091, 104.28809904, 113.72510064,\n",
       "        84.34239938, 122.36740039, 116.41969901, 113.46950207,\n",
       "       165.45140223,  92.31180023,  80.27260081, 161.14700077,\n",
       "       158.65580212, 106.80690004, 149.66910092, 109.76349752,\n",
       "       122.60970036, 128.48180007, 113.28299857, 120.02520094,\n",
       "       135.57719687, 107.3665011 ,  93.89960089,  92.71509856,\n",
       "       111.41320066, 118.34080011, 108.58199927, 112.10369978,\n",
       "       168.02419849, 160.8975985 , 107.69549889, 125.48730053,\n",
       "       108.19550033, 115.17390176, 126.74039816, 108.3132993 ,\n",
       "       161.27250193,  84.55559903, 131.35590354, 114.7038997 ,\n",
       "       157.15919992, 110.33639816, 113.88019988, 107.67729979,\n",
       "       138.4962001 ,  88.67159946,  92.29579918, 175.27980076,\n",
       "       118.73810046, 118.85909997, 121.27890035, 171.50429768,\n",
       "       131.67590034, 119.74840011, 158.29590218, 118.81419822,\n",
       "       119.11429914, 110.0627991 , 119.93909917, 122.06560024,\n",
       "       129.09989865, 114.69889967,  89.77829914, 114.41050124,\n",
       "       131.77810009, 115.46530086, 124.98649991,  90.64510069,\n",
       "       106.76640047, 117.24190126, 109.53139939, 166.25890209,\n",
       "        80.68930069, 121.65889939,  73.18130168, 111.25289956,\n",
       "       101.03090102, 124.0924005 ,  75.95470001, 125.09519937,\n",
       "       119.80850066, 105.16190004,  90.62289903, 132.27869983,\n",
       "       138.66130155, 175.91519957, 126.75389951, 126.80349916,\n",
       "       124.33619982,  91.98179842, 149.08300126, 102.89339926,\n",
       "       117.62140018, 134.24209784, 135.51749939, 117.95120054,\n",
       "       117.26910176, 102.25689789, 123.98169896,  89.50669978,\n",
       "       108.00799914, 117.77200029, 168.29959979, 117.2344005 ,\n",
       "       117.71239957, 155.43300142, 111.26700022,  87.23629931,\n",
       "       116.45930107, 124.39539901, 120.5629023 , 118.13860044,\n",
       "        96.48879843, 109.41059982, 115.07339894, 127.76450084,\n",
       "       156.01390072, 107.9120006 , 123.86829932, 139.5104027 ,\n",
       "        90.98540037, 117.94050085, 130.15180022, 114.10919899,\n",
       "       108.36849961, 119.16400042, 127.91270003, 125.56219952,\n",
       "       145.16140127, 112.38470047,  93.62319982, 115.01120006,\n",
       "       125.49560074, 120.27170159, 122.2684009 ,  92.69700071,\n",
       "       121.08329881,  93.17040001, 119.09160022, 124.59669975,\n",
       "       122.06510025, 131.42180023, 124.46149912, 114.79310163,\n",
       "       127.40190029, 113.10260101, 165.16099969, 122.31809788,\n",
       "       119.76780228, 114.14220017, 120.09059969, 120.22159982,\n",
       "       105.80860076, 116.78820063, 125.82809883, 172.06469779,\n",
       "        85.66500015, 134.69669814, 127.73499829,  73.84420074,\n",
       "       119.18209999,  88.86069947, 162.10560183,  92.12639943,\n",
       "       158.71200096, 102.34089862, 102.98449948, 102.60899889,\n",
       "       118.56779908, 165.26110191, 120.24490124, 135.7806987 ,\n",
       "        96.53719814, 113.22209983, 132.32450116, 145.67590065,\n",
       "       125.83350027, 101.60589997, 125.30810085, 159.971201  ,\n",
       "       120.1814012 , 126.45380084, 127.5404009 , 115.39479937,\n",
       "       156.7209019 , 128.66470045, 114.14099957, 176.85939954,\n",
       "       119.90880189, 119.13670104, 102.89129865, 160.86930015,\n",
       "       114.74070087, 118.56339932, 125.65079914, 116.84500127,\n",
       "       114.6671994 ,  90.87659956, 101.2236999 , 131.98950028,\n",
       "       118.80470231, 168.39359814, 107.89800124,  86.18650063,\n",
       "        91.74309944, 155.84129917, 156.28730059, 153.04009938,\n",
       "        72.70700014, 120.83290021, 117.36910035, 159.02269969,\n",
       "       135.43299944, 111.81559983, 113.64619995, 160.67450134,\n",
       "       125.58699955, 120.02910061, 117.61919991, 157.98000258,\n",
       "       104.01319973,  89.78589931,  83.71559955,  90.49899971,\n",
       "       115.60030031, 113.86369965, 119.84900113, 119.6009006 ,\n",
       "        78.79150029,  90.86650085, 153.68570368, 119.50920054,\n",
       "       131.81929971, 125.92380107, 113.88730067,  82.3717007 ,\n",
       "       118.22119851,  89.97470008, 117.87309949, 163.0267032 ,\n",
       "       121.28010107, 110.62180033, 125.43459796, 114.28600015,\n",
       "       135.83599952,  80.09940103, 163.67359905, 132.31500123,\n",
       "       163.79510068, 127.48559926,  91.85969927, 108.61149941,\n",
       "       114.16989932, 128.0144016 , 119.48180167,  92.50139917,\n",
       "       132.17529945, 162.55880014,  72.12810159, 112.3721003 ,\n",
       "       108.55069981, 113.74409843, 120.48860113, 112.08640003,\n",
       "       120.68450007, 118.38940193, 126.25040067, 125.7473015 ,\n",
       "       109.09469996, 167.9074999 , 166.89609914, 112.33689926,\n",
       "       169.54829813, 111.99180046, 161.78080181, 127.39409846,\n",
       "       167.71419905, 135.34820143, 109.16379893, 167.09129967,\n",
       "       116.88280119,  72.79230136, 113.61529997,  93.31999996,\n",
       "        87.87510021, 104.14539884, 126.0785006 , 123.47309768,\n",
       "       168.1120989 , 121.52960086,  87.10939876, 132.03439811,\n",
       "       121.79030021, 107.16529989, 168.62059942, 126.12699767,\n",
       "       127.08050123, 113.57780059, 135.13510066, 125.16770088,\n",
       "       143.97419945, 123.4615992 , 118.29960021, 120.52520008,\n",
       "       167.20329993,  71.66160042, 163.3453997 , 166.68269846,\n",
       "       118.70570072, 103.70279823, 128.05569938, 153.6021996 ,\n",
       "       172.05069943, 135.17549749, 126.94110026, 124.34120003,\n",
       "       152.62019902,  87.9004003 , 130.73640195, 110.99150068,\n",
       "       165.07549981, 156.59009921, 166.06049944, 121.58399966,\n",
       "        90.09490008, 132.15740209,  99.80889966, 127.60259765,\n",
       "       127.80449791, 108.58359928,  91.04579919, 153.04170067,\n",
       "        95.0937989 ,  87.79679921, 125.0027996 ,  87.20759807,\n",
       "        94.99110086, 113.8206996 , 156.35670292, 148.23330035,\n",
       "       105.44580015, 166.42449714, 111.18300019, 128.2618003 ,\n",
       "        90.76849992, 109.3802994 ,  76.86670082, 110.59289977,\n",
       "       163.48229885, 154.46699834, 152.56030198, 161.8259998 ,\n",
       "        92.09689855, 118.00180163,  94.01650114, 130.28280062,\n",
       "       117.52390008, 117.43150043, 124.21250061, 120.92909988,\n",
       "        97.95209938, 167.68620053, 145.28460181, 124.5707988 ,\n",
       "       169.47769793,  84.08199986, 166.87309774, 130.19160245,\n",
       "       119.83800156,  88.4110001 , 120.11049838,  83.67979857,\n",
       "       118.66570099, 113.39749917, 116.58269934, 154.22889812,\n",
       "       134.11060425, 118.00630104, 118.75759817, 123.20279889,\n",
       "       115.36720113, 118.53290011, 122.1678004 , 147.5315007 ,\n",
       "       148.61340038, 168.58970092,  98.18579891, 160.2974994 ,\n",
       "        93.46600026, 141.62399955, 121.50150063,  84.08869882,\n",
       "       106.29600006, 123.75829987, 169.26589758,  93.69719899,\n",
       "        96.37530062, 152.67310018])"
      ]
     },
     "execution_count": 30,
     "metadata": {},
     "output_type": "execute_result"
    }
   ],
   "source": [
    "train_data_prediction"
   ]
  },
  {
   "cell_type": "code",
   "execution_count": 32,
   "id": "e3f4df07",
   "metadata": {},
   "outputs": [],
   "source": [
    "from sklearn.metrics import r2_score"
   ]
  },
  {
   "cell_type": "code",
   "execution_count": 33,
   "id": "840ca403",
   "metadata": {},
   "outputs": [],
   "source": [
    "error_score=r2_score(y_test,train_data_prediction)"
   ]
  },
  {
   "cell_type": "code",
   "execution_count": 34,
   "id": "687bc3e2",
   "metadata": {},
   "outputs": [
    {
     "data": {
      "text/plain": [
       "0.9897546931927538"
      ]
     },
     "execution_count": 34,
     "metadata": {},
     "output_type": "execute_result"
    }
   ],
   "source": [
    "error_score"
   ]
  },
  {
   "cell_type": "code",
   "execution_count": 35,
   "id": "a83d8d6e",
   "metadata": {},
   "outputs": [],
   "source": [
    "y_list=list(y_test)"
   ]
  },
  {
   "cell_type": "code",
   "execution_count": 41,
   "id": "0e862357",
   "metadata": {},
   "outputs": [
    {
     "data": {
      "text/plain": [
       "Text(0, 0.5, 'gold price')"
      ]
     },
     "execution_count": 41,
     "metadata": {},
     "output_type": "execute_result"
    },
    {
     "data": {
      "image/png": "[encoded data removed]",
      "text/plain": [
       "<Figure size 640x480 with 1 Axes>"
      ]
     },
     "metadata": {},
     "output_type": "display_data"
    }
   ],
   "source": [
    "plt.plot(y_list,color='blue')\n",
    "plt.plot(train_data_prediction,color='green')\n",
    "plt.xlabel('Number of values')\n",
    "plt.ylabel(\"gold price\")"
   ]
  },
  {
   "cell_type": "code",
   "execution_count": null,
   "id": "4b3b0e49",
   "metadata": {},
   "outputs": [],
   "source": []
  }
 ],
 "metadata": {
  "kernelspec": {
   "display_name": "Python 3 (ipykernel)",
   "language": "python",
   "name": "python3"
  },
  "language_info": {
   "codemirror_mode": {
    "name": "ipython",
    "version": 3
   },
   "file_extension": ".py",
   "mimetype": "text/x-python",
   "name": "python",
   "nbconvert_exporter": "python",
   "pygments_lexer": "ipython3",
   "version": "3.10.9"
  }
 },
 "nbformat": 4,
 "nbformat_minor": 5
}
